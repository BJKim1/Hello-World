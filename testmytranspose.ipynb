{
 "cells": [
  {
   "cell_type": "code",
   "execution_count": 1,
   "id": "87e90cc6-dbd9-4a81-b0a6-029c9569458f",
   "metadata": {},
   "outputs": [
    {
     "name": "stdout",
     "output_type": "stream",
     "text": [
      "Test case 1 passed\n",
      "Test case 2 passed\n",
      "Test case 3 passed\n",
      "Test case 4 passed\n"
     ]
    }
   ],
   "source": [
    "import numpy as np\n",
    "\n",
    "# Define test cases\n",
    "myvar1_test_cases = [\n",
    "    [np.array([[1,2,3],[4,5,6]]), np.array([[1,4],[2,5],[3,6]])],\n",
    "    [np.array([[1,2],[3,4],[5,6]]), np.array([[1,3,5],[2,4,6]])],\n",
    "    [np.array([[1]]), np.array([[1]])],\n",
    "    [np.array([1,2,3]), np.array([[1],[2],[3]])],\n",
    "]\n",
    "\n",
    "# Define function to transpose arrays\n",
    "def mytranspose(x):\n",
    "    if x.ndim == 1: # for 1D arrays\n",
    "        y = x.reshape(len(x), 1)\n",
    "    else: # for 2D arrays\n",
    "        y = np.zeros((x.shape[1], x.shape[0]), dtype=x.dtype)\n",
    "        for i in range(x.shape[0]):\n",
    "            for j in range(x.shape[1]):\n",
    "                y[j,i] = x[i,j]\n",
    "    return y\n",
    "\n",
    "# Test the function with each test case\n",
    "for i in range(len(myvar1_test_cases)):\n",
    "    result = mytranspose(myvar1_test_cases[i][0])\n",
    "    expected = myvar1_test_cases[i][1]\n",
    "    if not np.array_equal(result, expected):\n",
    "        print(f\"Test case {i+1} failed\")\n",
    "    else:\n",
    "        print(f\"Test case {i+1} passed\")"
   ]
  }
 ],
 "metadata": {
  "kernelspec": {
   "display_name": "Python 3 (ipykernel)",
   "language": "python",
   "name": "python3"
  },
  "language_info": {
   "codemirror_mode": {
    "name": "ipython",
    "version": 3
   },
   "file_extension": ".py",
   "mimetype": "text/x-python",
   "name": "python",
   "nbconvert_exporter": "python",
   "pygments_lexer": "ipython3",
   "version": "3.9.7"
  }
 },
 "nbformat": 4,
 "nbformat_minor": 5
}
